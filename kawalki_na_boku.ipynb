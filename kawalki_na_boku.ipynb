{
  "nbformat": 4,
  "nbformat_minor": 0,
  "metadata": {
    "colab": {
      "provenance": [],
      "authorship_tag": "ABX9TyORJ3B7B5uq4r5BuHPl1KY7",
      "include_colab_link": true
    },
    "kernelspec": {
      "name": "python3",
      "display_name": "Python 3"
    },
    "language_info": {
      "name": "python"
    }
  },
  "cells": [
    {
      "cell_type": "markdown",
      "metadata": {
        "id": "view-in-github",
        "colab_type": "text"
      },
      "source": [
        "<a href=\"https://colab.research.google.com/github/Secatorrez/Secatorrez.github.io/blob/master/kawalki_na_boku.ipynb\" target=\"_parent\"><img src=\"https://colab.research.google.com/assets/colab-badge.svg\" alt=\"Open In Colab\"/></a>"
      ]
    },
    {
      "cell_type": "code",
      "execution_count": 2,
      "metadata": {
        "colab": {
          "base_uri": "https://localhost:8080/"
        },
        "id": "RnGEFCoEVn5h",
        "outputId": "eb19735f-a7a3-405e-c2d7-db19fb200e81"
      },
      "outputs": [
        {
          "output_type": "stream",
          "name": "stdout",
          "text": [
            "The youngest child is Najmlodszy\n"
          ]
        }
      ],
      "source": [
        "def my_function(*kids):\n",
        "\tile = len(kids)\n",
        "\t#print(ile)\n",
        "\tprint(\"The youngest child is \" + kids[ile-1])\n",
        "\n",
        "my_function(\"Emil\", \"Tobias\", \"Linus\", \"Najmlodszy\")"
      ]
    },
    {
      "cell_type": "code",
      "source": [
        "# tescik array z numpy i zamiana w macierz\n",
        "import numpy as np\n",
        "a1 = np.array([1,2,3])\n",
        "a2 = np.array([4,5,6])\n",
        "a3 = np.array([7,8,9])\n",
        "amatrix = np.block([[a1], [a2], [a3]])\n",
        "print(amatrix)\n",
        "print(amatrix[0])\n",
        "print(amatrix[1])\n",
        "print(amatrix[2])"
      ],
      "metadata": {
        "colab": {
          "base_uri": "https://localhost:8080/"
        },
        "id": "7lqTrl65n4Wb",
        "outputId": "d8f6a494-a6b0-4a9a-92d7-0a1f414e68f7"
      },
      "execution_count": null,
      "outputs": [
        {
          "output_type": "stream",
          "name": "stdout",
          "text": [
            "[[1 2 3]\n",
            " [4 5 6]\n",
            " [7 8 9]]\n",
            "[1 2 3]\n",
            "[4 5 6]\n",
            "[7 8 9]\n"
          ]
        }
      ]
    },
    {
      "cell_type": "markdown",
      "source": [
        "**TTTTT**"
      ],
      "metadata": {
        "id": "sItBHKM5ekfY"
      }
    }
  ]
}